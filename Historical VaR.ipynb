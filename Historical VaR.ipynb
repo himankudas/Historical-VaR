{
 "cells": [
  {
   "cell_type": "code",
   "execution_count": 61,
   "metadata": {},
   "outputs": [],
   "source": [
    "# Importing Libraries\n",
    "\n",
    "import pandas as pd\n",
    "import numpy as np\n",
    "import datetime as dt\n",
    "from pandas_datareader import data as pdr\n",
    "import matplotlib.pyplot as plt\n",
    "import yfinance as yf"
   ]
  },
  {
   "cell_type": "code",
   "execution_count": 62,
   "metadata": {},
   "outputs": [],
   "source": [
    "yf.pdr_override()"
   ]
  },
  {
   "cell_type": "code",
   "execution_count": 63,
   "metadata": {},
   "outputs": [],
   "source": [
    "# Import data from Yahoo\n",
    "\n",
    "def getData(stocks, start, end):\n",
    "    stockData = pdr.get_data_yahoo(stocks, start=start, end=end)\n",
    "    stockData = stockData['Close']\n",
    "    returns = stockData.pct_change()\n",
    "    meanReturns = returns.mean()\n",
    "    covMatrix = returns.cov()\n",
    "    return returns, meanReturns, covMatrix"
   ]
  },
  {
   "cell_type": "code",
   "execution_count": 64,
   "metadata": {},
   "outputs": [
    {
     "name": "stdout",
     "output_type": "stream",
     "text": [
      "[*********************100%***********************]  6 of 6 completed\n"
     ]
    }
   ],
   "source": [
    "# Portfolio Performance\n",
    "\n",
    "def portfolioPerformance(weights, meanReturns, covMatrix, Time):\n",
    "    returns = np.sum(meanReturns*weights)*Time\n",
    "    std = np.sqrt( np.dot(weights.T, np.dot(covMatrix, weights)) ) * np.sqrt(Time)\n",
    "    return returns, std\n",
    "\n",
    "# Adding the Tickers of the stocks from the Austrailian Stock Exchange\n",
    "    \n",
    "stockList = ['BHP', 'RIO', 'CBA', 'CSL', 'NAB', 'WBC']\n",
    "stocks = [stock+'.AX' for stock in stockList]\n",
    "\n",
    "endDate = dt.datetime.now()\n",
    "startDate = endDate - dt.timedelta(days=1000)\n",
    "\n",
    "returns, meanReturns, covMatrix = getData(stocks, start=startDate, end=endDate)\n",
    "returns = returns.dropna()"
   ]
  },
  {
   "cell_type": "code",
   "execution_count": 65,
   "metadata": {},
   "outputs": [
    {
     "name": "stdout",
     "output_type": "stream",
     "text": [
      "              BHP.AX    CBA.AX    CSL.AX    NAB.AX    RIO.AX    WBC.AX  \\\n",
      "Date                                                                     \n",
      "2020-04-27 -0.001310  0.000000  0.026295  0.000000 -0.003094 -0.043705   \n",
      "2020-04-28 -0.000328 -0.004586 -0.005590 -0.027919 -0.014253  0.017735   \n",
      "2020-04-29  0.020663  0.041972 -0.014366  0.063316 -0.002915  0.051609   \n",
      "2020-04-30  0.039524  0.026527 -0.019518  0.041129  0.023389  0.037604   \n",
      "2020-05-01 -0.077589 -0.061413 -0.034514 -0.048349 -0.056222 -0.057740   \n",
      "...              ...       ...       ...       ...       ...       ...   \n",
      "2023-01-13  0.005265  0.012550  0.005579  0.016234  0.009326  0.011064   \n",
      "2023-01-16  0.001007  0.007981  0.013923  0.011182 -0.000981  0.007155   \n",
      "2023-01-17 -0.011069  0.000838  0.012686  0.000632 -0.012278  0.000000   \n",
      "2023-01-18 -0.001221  0.001955  0.007812  0.000000  0.010939 -0.004597   \n",
      "2023-01-19  0.012225  0.010125  0.008264  0.001263  0.032544  0.005458   \n",
      "\n",
      "            portfolio  \n",
      "Date                   \n",
      "2020-04-27  -0.003089  \n",
      "2020-04-28  -0.011238  \n",
      "2020-04-29   0.033161  \n",
      "2020-04-30   0.033202  \n",
      "2020-05-01  -0.058945  \n",
      "...               ...  \n",
      "2023-01-13   0.010633  \n",
      "2023-01-16   0.005788  \n",
      "2023-01-17  -0.004352  \n",
      "2023-01-18   0.001655  \n",
      "2023-01-19   0.010989  \n",
      "\n",
      "[694 rows x 7 columns]\n"
     ]
    }
   ],
   "source": [
    "# Giving random weights to the stocks and equating the sum to 100\n",
    "\n",
    "weights = np.random.random(len(returns.columns))\n",
    "weights /= np.sum(weights)\n",
    "returns['portfolio'] = returns.dot(weights)\n",
    "\n",
    "print(returns)"
   ]
  },
  {
   "cell_type": "code",
   "execution_count": 66,
   "metadata": {},
   "outputs": [
    {
     "name": "stdout",
     "output_type": "stream",
     "text": [
      "BHP.AX      -0.030608\n",
      "CBA.AX      -0.020583\n",
      "CSL.AX      -0.023556\n",
      "NAB.AX      -0.023055\n",
      "RIO.AX      -0.028567\n",
      "WBC.AX      -0.022604\n",
      "portfolio   -0.020728\n",
      "dtype: float64\n"
     ]
    }
   ],
   "source": [
    "# Calculating the VaR\n",
    "# We will take alpha as 5 for the 5th percentile\n",
    "\n",
    "def historicalVaR(returns, alpha=5):\n",
    "    \"\"\"\n",
    "    This will read in a pandas dataframe of returns or a pandas series of returns\n",
    "    And this will output the percentile of the distribution at the given alpha confidence level (5 in this example)\n",
    "    \"\"\"\n",
    "    if isinstance(returns, pd.Series):\n",
    "        return np.percentile(returns, alpha)\n",
    "\n",
    "\n",
    "# The aggregate function below is a passed user-defined-function will be passed a Series for evaluation. \n",
    "# Bascially we are using this to evalaute every column of the above Data Frame.\n",
    "    \n",
    "    elif isinstance(returns, pd.DataFrame):\n",
    "        return returns.aggregate(historicalVaR, alpha=alpha)\n",
    "    else:\n",
    "        raise TypeError(\"Expected returns to be dataframe or series\")\n",
    "\n",
    "print(historicalVaR(returns, alpha=5))    "
   ]
  },
  {
   "cell_type": "code",
   "execution_count": 67,
   "metadata": {},
   "outputs": [
    {
     "name": "stdout",
     "output_type": "stream",
     "text": [
      "BHP.AX      -0.046384\n",
      "CBA.AX      -0.030631\n",
      "CSL.AX      -0.033697\n",
      "NAB.AX      -0.030812\n",
      "RIO.AX      -0.042988\n",
      "WBC.AX      -0.034536\n",
      "portfolio   -0.026980\n",
      "dtype: float64\n"
     ]
    }
   ],
   "source": [
    "# Calculating the CVaR\n",
    "\n",
    "def historicalCVaR(returns, alpha=5):\n",
    "    \"\"\"\n",
    "    Read in a pandas dataframe of returns / a pandas series of returns\n",
    "    Output the CVaR\n",
    "    \"\"\"\n",
    "    if isinstance(returns, pd.Series):\n",
    "        belowVaR = returns <= historicalVaR(returns, alpha=alpha)\n",
    "        return returns[belowVaR].mean()\n",
    "\n",
    "# The aggregate function below is a passed user-defined-function will be passed a Series for evaluation. \n",
    "# Bascially we are using this to evalaute every column of the above Data Frame.\n",
    "    \n",
    "    elif isinstance(returns, pd.DataFrame):\n",
    "        return returns.aggregate(historicalCVaR, alpha=alpha)\n",
    "    else:\n",
    "        raise TypeError(\"Expected returns to be dataframe or series\")\n",
    "\n",
    "print(historicalCVaR(returns, alpha=5))  "
   ]
  },
  {
   "cell_type": "code",
   "execution_count": 68,
   "metadata": {},
   "outputs": [
    {
     "name": "stdout",
     "output_type": "stream",
     "text": [
      "Expected Portfolio Return        :       88.88\n",
      "Value at Risk 95th percentile    :       2072.81\n",
      "Conditional VaR 95th percentile  :       2697.98\n"
     ]
    }
   ],
   "source": [
    "# 1 days\n",
    "\n",
    "Time = 1\n",
    "hVaR = -historicalVaR(returns['portfolio'], alpha=5)*np.sqrt(Time)\n",
    "hCVaR = -historicalCVaR(returns['portfolio'], alpha=5)*np.sqrt(Time)\n",
    "pRet, pStd = portfolioPerformance(weights, meanReturns, covMatrix, Time)\n",
    "InitialInvestment = 100000\n",
    "\n",
    "# Print the Expected Portfolio Return, VaR and CVaR\n",
    "\n",
    "print('Expected Portfolio Return        :      ', round(InitialInvestment*pRet,2))\n",
    "print('Value at Risk 95th percentile    :      ', round(InitialInvestment*hVaR,2))\n",
    "print('Conditional VaR 95th percentile  :      ', round(InitialInvestment*hCVaR,2))"
   ]
  }
 ],
 "metadata": {
  "kernelspec": {
   "display_name": "Finance",
   "language": "python",
   "name": "python3"
  },
  "language_info": {
   "codemirror_mode": {
    "name": "ipython",
    "version": 3
   },
   "file_extension": ".py",
   "mimetype": "text/x-python",
   "name": "python",
   "nbconvert_exporter": "python",
   "pygments_lexer": "ipython3",
   "version": "3.7.15"
  },
  "orig_nbformat": 4,
  "vscode": {
   "interpreter": {
    "hash": "24a8234a87afe7248887c787e711ce88d51a96f7383d7061ef016c190de3affa"
   }
  }
 },
 "nbformat": 4,
 "nbformat_minor": 2
}
