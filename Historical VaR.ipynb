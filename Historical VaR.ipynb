{
 "cells": [
  {
   "cell_type": "code",
   "execution_count": 3,
   "metadata": {},
   "outputs": [],
   "source": [
    "import pandas as pd\n",
    "import numpy as np\n",
    "import datetime as dt\n",
    "from pandas_datareader import data as pdr\n",
    "from scipy.stats import norm, t\n",
    "import matplotlib.pyplot as plt\n",
    "import yfinance as yf"
   ]
  },
  {
   "cell_type": "code",
   "execution_count": 4,
   "metadata": {},
   "outputs": [],
   "source": [
    "yf.pdr_override()"
   ]
  },
  {
   "cell_type": "code",
   "execution_count": 5,
   "metadata": {},
   "outputs": [
    {
     "name": "stdout",
     "output_type": "stream",
     "text": [
      "[*********************100%***********************]  6 of 6 completed\n"
     ]
    }
   ],
   "source": [
    "# Import data\n",
    "def getData(stocks, start, end):\n",
    "    stockData = pdr.get_data_yahoo(stocks, start=start, end=end)\n",
    "    stockData = stockData['Close']\n",
    "    returns = stockData.pct_change()\n",
    "    meanReturns = returns.mean()\n",
    "    covMatrix = returns.cov()\n",
    "    return returns, meanReturns, covMatrix\n",
    "# Portfolio Performance\n",
    "def portfolioPerformance(weights, meanReturns, covMatrix, Time):\n",
    "    returns = np.sum(meanReturns*weights)*Time\n",
    "    std = np.sqrt( np.dot(weights.T, np.dot(covMatrix, weights)) ) * np.sqrt(Time)\n",
    "    return returns, std\n",
    "stockList = ['CBA', 'BHP', 'TLS', 'NAB', 'WBC', 'STO']\n",
    "stocks = [stock+'.AX' for stock in stockList]\n",
    "endDate = dt.datetime.now()\n",
    "startDate = endDate - dt.timedelta(days=800)\n",
    "returns, meanReturns, covMatrix = getData(stocks, start=startDate, end=endDate)\n",
    "returns = returns.dropna()\n",
    "weights = np.random.random(len(returns.columns))\n",
    "weights /= np.sum(weights)\n",
    "returns['portfolio'] = returns.dot(weights)"
   ]
  },
  {
   "cell_type": "code",
   "execution_count": 8,
   "metadata": {},
   "outputs": [
    {
     "name": "stdout",
     "output_type": "stream",
     "text": [
      "Expected Portfolio Return:       820.88\n",
      "Value at Risk 95th CI    :       1768.22\n",
      "Conditional VaR 95th CI  :       2240.87\n"
     ]
    }
   ],
   "source": [
    "def historicalVaR(returns, alpha=5):\n",
    "    \"\"\"\n",
    "    Read in a pandas dataframe of returns / a pandas series of returns\n",
    "    Output the percentile of the distribution at the given alpha confidence level\n",
    "    \"\"\"\n",
    "    if isinstance(returns, pd.Series):\n",
    "        return np.percentile(returns, alpha)\n",
    "    # A passed user-defined-function will be passed a Series for evaluation.\n",
    "    elif isinstance(returns, pd.DataFrame):\n",
    "        return returns.aggregate(historicalVaR, alpha=alpha)\n",
    "    else:\n",
    "        raise TypeError(\"Expected returns to be dataframe or series\")\n",
    "def historicalCVaR(returns, alpha=5):\n",
    "    \"\"\"\n",
    "    Read in a pandas dataframe of returns / a pandas series of returns\n",
    "    Output the CVaR for dataframe / series\n",
    "    \"\"\"\n",
    "    if isinstance(returns, pd.Series):\n",
    "        belowVaR = returns <= historicalVaR(returns, alpha=alpha)\n",
    "        return returns[belowVaR].mean()\n",
    "    # A passed user-defined-function will be passed a Series for evaluation.\n",
    "    elif isinstance(returns, pd.DataFrame):\n",
    "        return returns.aggregate(historicalCVaR, alpha=alpha)\n",
    "    else:\n",
    "        raise TypeError(\"Expected returns to be dataframe or series\")\n",
    "# 100 days\n",
    "Time = 100\n",
    "hVaR = -historicalVaR(returns['portfolio'], alpha=5)*np.sqrt(Time)\n",
    "hCVaR = -historicalCVaR(returns['portfolio'], alpha=5)*np.sqrt(Time)\n",
    "pRet, pStd = portfolioPerformance(weights, meanReturns, covMatrix, Time)\n",
    "InitialInvestment = 10000\n",
    "print('Expected Portfolio Return:      ', round(InitialInvestment*pRet,2))\n",
    "print('Value at Risk 95th CI    :      ', round(InitialInvestment*hVaR,2))\n",
    "print('Conditional VaR 95th CI  :      ', round(InitialInvestment*hCVaR,2))"
   ]
  }
 ],
 "metadata": {
  "kernelspec": {
   "display_name": "Finance",
   "language": "python",
   "name": "python3"
  },
  "language_info": {
   "codemirror_mode": {
    "name": "ipython",
    "version": 3
   },
   "file_extension": ".py",
   "mimetype": "text/x-python",
   "name": "python",
   "nbconvert_exporter": "python",
   "pygments_lexer": "ipython3",
   "version": "3.7.15"
  },
  "orig_nbformat": 4,
  "vscode": {
   "interpreter": {
    "hash": "24a8234a87afe7248887c787e711ce88d51a96f7383d7061ef016c190de3affa"
   }
  }
 },
 "nbformat": 4,
 "nbformat_minor": 2
}
